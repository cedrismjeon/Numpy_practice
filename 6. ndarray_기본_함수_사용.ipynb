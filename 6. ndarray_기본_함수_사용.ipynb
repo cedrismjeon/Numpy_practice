{
  "nbformat": 4,
  "nbformat_minor": 0,
  "metadata": {
    "colab": {
      "name": "6. ndarray 기본 함수 사용.ipynb",
      "provenance": [],
      "collapsed_sections": [],
      "authorship_tag": "ABX9TyNXeohwZKarfRCQkSCUZCUn",
      "include_colab_link": true
    },
    "kernelspec": {
      "name": "python3",
      "display_name": "Python 3"
    }
  },
  "cells": [
    {
      "cell_type": "markdown",
      "metadata": {
        "id": "view-in-github",
        "colab_type": "text"
      },
      "source": [
        "<a href=\"https://colab.research.google.com/github/cedrismjeon/numpy_practice/blob/main/6.%20ndarray_%EA%B8%B0%EB%B3%B8_%ED%95%A8%EC%88%98_%EC%82%AC%EC%9A%A9.ipynb\" target=\"_parent\"><img src=\"https://colab.research.google.com/assets/colab-badge.svg\" alt=\"Open In Colab\"/></a>"
      ]
    },
    {
      "cell_type": "code",
      "metadata": {
        "id": "YSED3BeVAirY"
      },
      "source": [
        "import numpy as np"
      ],
      "execution_count": 1,
      "outputs": []
    },
    {
      "cell_type": "code",
      "metadata": {
        "colab": {
          "base_uri": "https://localhost:8080/"
        },
        "id": "vv-j7UcGtmz_",
        "outputId": "a3fd89bb-4458-487a-b03e-63b081ec0b8d"
      },
      "source": [
        "x = np.arange(15).reshape(3, 5)\n",
        "y = np.random.rand(15).reshape(3, 5)\n",
        "print(x)\n",
        "print(y)"
      ],
      "execution_count": 3,
      "outputs": [
        {
          "output_type": "stream",
          "text": [
            "[[ 0  1  2  3  4]\n",
            " [ 5  6  7  8  9]\n",
            " [10 11 12 13 14]]\n",
            "[[0.66214669 0.94138597 0.39962892 0.24794237 0.72370598]\n",
            " [0.01861908 0.02053765 0.65116051 0.17870899 0.12197446]\n",
            " [0.97855763 0.53560837 0.00497677 0.10770079 0.03388926]]\n"
          ],
          "name": "stdout"
        }
      ]
    },
    {
      "cell_type": "markdown",
      "metadata": {
        "id": "w37Orv84uCLr"
      },
      "source": [
        "연산 함수\n",
        "* add, subtract, multiply, divide"
      ]
    },
    {
      "cell_type": "code",
      "metadata": {
        "colab": {
          "base_uri": "https://localhost:8080/"
        },
        "id": "uQjJSlmxt0eG",
        "outputId": "bc1ae78b-9aee-4b77-ef15-00bae3383b0d"
      },
      "source": [
        "np.add(x, y) #더하기"
      ],
      "execution_count": 4,
      "outputs": [
        {
          "output_type": "execute_result",
          "data": {
            "text/plain": [
              "array([[ 0.66214669,  1.94138597,  2.39962892,  3.24794237,  4.72370598],\n",
              "       [ 5.01861908,  6.02053765,  7.65116051,  8.17870899,  9.12197446],\n",
              "       [10.97855763, 11.53560837, 12.00497677, 13.10770079, 14.03388926]])"
            ]
          },
          "metadata": {
            "tags": []
          },
          "execution_count": 4
        }
      ]
    },
    {
      "cell_type": "code",
      "metadata": {
        "colab": {
          "base_uri": "https://localhost:8080/"
        },
        "id": "_U6Oj1R_uJfa",
        "outputId": "b240194d-6737-433e-f62a-09b27ed65491"
      },
      "source": [
        "np.subtract(x, y) #빼기"
      ],
      "execution_count": 5,
      "outputs": [
        {
          "output_type": "execute_result",
          "data": {
            "text/plain": [
              "array([[-0.66214669,  0.05861403,  1.60037108,  2.75205763,  3.27629402],\n",
              "       [ 4.98138092,  5.97946235,  6.34883949,  7.82129101,  8.87802554],\n",
              "       [ 9.02144237, 10.46439163, 11.99502323, 12.89229921, 13.96611074]])"
            ]
          },
          "metadata": {
            "tags": []
          },
          "execution_count": 5
        }
      ]
    },
    {
      "cell_type": "code",
      "metadata": {
        "colab": {
          "base_uri": "https://localhost:8080/"
        },
        "id": "6MmFoERfuUXb",
        "outputId": "871cdfde-2657-4293-9359-e09be5f0a052"
      },
      "source": [
        "np.multiply(x, y) #곱하기"
      ],
      "execution_count": 6,
      "outputs": [
        {
          "output_type": "execute_result",
          "data": {
            "text/plain": [
              "array([[0.        , 0.94138597, 0.79925785, 0.7438271 , 2.8948239 ],\n",
              "       [0.09309538, 0.12322588, 4.55812359, 1.42967191, 1.09777016],\n",
              "       [9.78557633, 5.89169205, 0.05972118, 1.40011025, 0.4744496 ]])"
            ]
          },
          "metadata": {
            "tags": []
          },
          "execution_count": 6
        }
      ]
    },
    {
      "cell_type": "code",
      "metadata": {
        "colab": {
          "base_uri": "https://localhost:8080/"
        },
        "id": "Pv1g4ZsYudKF",
        "outputId": "25a22df1-aaec-44b8-a659-457210beb42b"
      },
      "source": [
        "np.divide(x, y) #나누기"
      ],
      "execution_count": 7,
      "outputs": [
        {
          "output_type": "execute_result",
          "data": {
            "text/plain": [
              "array([[0.00000000e+00, 1.06226354e+00, 5.00464277e+00, 1.20995861e+01,\n",
              "        5.52710650e+00],\n",
              "       [2.68541801e+02, 2.92146431e+02, 1.07500376e+01, 4.47655154e+01,\n",
              "        7.37859370e+01],\n",
              "       [1.02191222e+01, 2.05373938e+01, 2.41120471e+03, 1.20704780e+02,\n",
              "        4.13110262e+02]])"
            ]
          },
          "metadata": {
            "tags": []
          },
          "execution_count": 7
        }
      ]
    },
    {
      "cell_type": "markdown",
      "metadata": {
        "id": "XCgXlLW5ulED"
      },
      "source": [
        "통계 함수\n",
        "* 평균, 분산, 중앙, 최대, 최소값 등등 통계 관련 함수 내장"
      ]
    },
    {
      "cell_type": "code",
      "metadata": {
        "colab": {
          "base_uri": "https://localhost:8080/"
        },
        "id": "ykvaDVEdugwt",
        "outputId": "82b3ebc4-7df3-4bfc-96d9-4fadd6515918"
      },
      "source": [
        "np.mean(y) #평균\n",
        "y.mean()"
      ],
      "execution_count": 8,
      "outputs": [
        {
          "output_type": "execute_result",
          "data": {
            "text/plain": [
              "0.3751028948211523"
            ]
          },
          "metadata": {
            "tags": []
          },
          "execution_count": 8
        }
      ]
    },
    {
      "cell_type": "code",
      "metadata": {
        "colab": {
          "base_uri": "https://localhost:8080/"
        },
        "id": "xyhPDL3DyJ66",
        "outputId": "dac96f9c-394a-4f3c-8527-0a6a7d685ccc"
      },
      "source": [
        "np.var(y) #분산\n",
        "np.median(y) #중앙\n",
        "np.average(y) # 평균\n",
        "np.max(y) #최대\n",
        "np.min(y) #최소"
      ],
      "execution_count": 9,
      "outputs": [
        {
          "output_type": "execute_result",
          "data": {
            "text/plain": [
              "0.004976765329011701"
            ]
          },
          "metadata": {
            "tags": []
          },
          "execution_count": 9
        }
      ]
    },
    {
      "cell_type": "code",
      "metadata": {
        "colab": {
          "base_uri": "https://localhost:8080/"
        },
        "id": "5Udf9CG6yfk2",
        "outputId": "f7b2723d-977b-4939-ae39-c59700a6485b"
      },
      "source": [
        "np.std(y) #표준편차"
      ],
      "execution_count": 10,
      "outputs": [
        {
          "output_type": "execute_result",
          "data": {
            "text/plain": [
              "0.3354459039051996"
            ]
          },
          "metadata": {
            "tags": []
          },
          "execution_count": 10
        }
      ]
    },
    {
      "cell_type": "markdown",
      "metadata": {
        "id": "JSJS2S6oyqui"
      },
      "source": [
        "집계함수\n",
        "* 합계(sum), 누적합계(cumsum) 등등 계산가능"
      ]
    },
    {
      "cell_type": "code",
      "metadata": {
        "colab": {
          "base_uri": "https://localhost:8080/"
        },
        "id": "ZvDsW2MiykM_",
        "outputId": "ec3ccae2-35c2-47c3-9576-195f7401ee9e"
      },
      "source": [
        "y"
      ],
      "execution_count": 11,
      "outputs": [
        {
          "output_type": "execute_result",
          "data": {
            "text/plain": [
              "array([[0.66214669, 0.94138597, 0.39962892, 0.24794237, 0.72370598],\n",
              "       [0.01861908, 0.02053765, 0.65116051, 0.17870899, 0.12197446],\n",
              "       [0.97855763, 0.53560837, 0.00497677, 0.10770079, 0.03388926]])"
            ]
          },
          "metadata": {
            "tags": []
          },
          "execution_count": 11
        }
      ]
    },
    {
      "cell_type": "code",
      "metadata": {
        "colab": {
          "base_uri": "https://localhost:8080/"
        },
        "id": "5xCokakQyzk-",
        "outputId": "a63694f4-0fe2-4449-f2e5-aa1e1482f32b"
      },
      "source": [
        "np.sum(y)"
      ],
      "execution_count": 12,
      "outputs": [
        {
          "output_type": "execute_result",
          "data": {
            "text/plain": [
              "5.626543422317284"
            ]
          },
          "metadata": {
            "tags": []
          },
          "execution_count": 12
        }
      ]
    },
    {
      "cell_type": "code",
      "metadata": {
        "colab": {
          "base_uri": "https://localhost:8080/"
        },
        "id": "uSx7lTc7y21f",
        "outputId": "1f391727-55e8-4fa3-e849-7137685506f8"
      },
      "source": [
        "np.cumsum(y) #누적합계"
      ],
      "execution_count": 13,
      "outputs": [
        {
          "output_type": "execute_result",
          "data": {
            "text/plain": [
              "array([0.66214669, 1.60353266, 2.00316158, 2.25110395, 2.97480992,\n",
              "       2.993429  , 3.01396664, 3.66512716, 3.84383615, 3.96581061,\n",
              "       4.94436824, 5.47997661, 5.48495338, 5.59265416, 5.62654342])"
            ]
          },
          "metadata": {
            "tags": []
          },
          "execution_count": 13
        }
      ]
    },
    {
      "cell_type": "code",
      "metadata": {
        "colab": {
          "base_uri": "https://localhost:8080/"
        },
        "id": "0b_riAFiy70Z",
        "outputId": "a6229a06-3900-4f06-9001-bb09a7e8fd8d"
      },
      "source": [
        "np.sum(y, axis=1) #가로 합"
      ],
      "execution_count": 17,
      "outputs": [
        {
          "output_type": "execute_result",
          "data": {
            "text/plain": [
              "array([2.97480992, 0.99100069, 1.66073281])"
            ]
          },
          "metadata": {
            "tags": []
          },
          "execution_count": 17
        }
      ]
    },
    {
      "cell_type": "code",
      "metadata": {
        "colab": {
          "base_uri": "https://localhost:8080/"
        },
        "id": "FJ2uvnhvzXtr",
        "outputId": "2dd72a03-bae4-4738-890b-0bcbd782b555"
      },
      "source": [
        "np.sum(y, axis=0) #세로 합"
      ],
      "execution_count": 18,
      "outputs": [
        {
          "output_type": "execute_result",
          "data": {
            "text/plain": [
              "array([1.65932339, 1.49753199, 1.0557662 , 0.53435214, 0.8795697 ])"
            ]
          },
          "metadata": {
            "tags": []
          },
          "execution_count": 18
        }
      ]
    },
    {
      "cell_type": "markdown",
      "metadata": {
        "id": "yUdK2hu-0Gou"
      },
      "source": [
        "where 함수\n",
        "* 조건에 따라 선별적으로 값을 선택 가능\n",
        "* 사용 예) 음수인 경우는 0, 나머지는 그대로 값을 쓰는 경우 "
      ]
    },
    {
      "cell_type": "code",
      "metadata": {
        "colab": {
          "base_uri": "https://localhost:8080/"
        },
        "id": "ZdhncD0U0PFL",
        "outputId": "e115ecfc-abab-4c46-e6bc-b801c41489f8"
      },
      "source": [
        "z = np.random.rand(10)\n",
        "print(z)"
      ],
      "execution_count": 19,
      "outputs": [
        {
          "output_type": "stream",
          "text": [
            "[0.92308368 0.58779713 0.15533372 0.98493444 0.47487286 0.20402253\n",
            " 0.14743121 0.90678279 0.13797246 0.67837333]\n"
          ],
          "name": "stdout"
        }
      ]
    },
    {
      "cell_type": "code",
      "metadata": {
        "colab": {
          "base_uri": "https://localhost:8080/"
        },
        "id": "6L_6dorP0S_S",
        "outputId": "1611e67a-0244-4e1c-fa9b-0f03edcae8ea"
      },
      "source": [
        "np.where(z > 0, z, 0) #(조건, 참일 때 출력값, 거짓일 때 출력값)"
      ],
      "execution_count": 20,
      "outputs": [
        {
          "output_type": "execute_result",
          "data": {
            "text/plain": [
              "array([0.92308368, 0.58779713, 0.15533372, 0.98493444, 0.47487286,\n",
              "       0.20402253, 0.14743121, 0.90678279, 0.13797246, 0.67837333])"
            ]
          },
          "metadata": {
            "tags": []
          },
          "execution_count": 20
        }
      ]
    }
  ]
}