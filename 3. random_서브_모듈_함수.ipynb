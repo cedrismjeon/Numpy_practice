{
  "nbformat": 4,
  "nbformat_minor": 0,
  "metadata": {
    "colab": {
      "name": "3. random 서브 모듈 함수.ipynb",
      "provenance": [],
      "collapsed_sections": [],
      "authorship_tag": "ABX9TyPQ5GBfVYzDV4XfuvKx4KEt",
      "include_colab_link": true
    },
    "kernelspec": {
      "name": "python3",
      "display_name": "Python 3"
    }
  },
  "cells": [
    {
      "cell_type": "markdown",
      "metadata": {
        "id": "view-in-github",
        "colab_type": "text"
      },
      "source": [
        "<a href=\"https://colab.research.google.com/github/cedrismjeon/numpy_practice/blob/main/3.%20random_%EC%84%9C%EB%B8%8C_%EB%AA%A8%EB%93%88_%ED%95%A8%EC%88%98.ipynb\" target=\"_parent\"><img src=\"https://colab.research.google.com/assets/colab-badge.svg\" alt=\"Open In Colab\"/></a>"
      ]
    },
    {
      "cell_type": "code",
      "metadata": {
        "id": "diuVnoC7jCfa"
      },
      "source": [
        "import numpy as np"
      ],
      "execution_count": 1,
      "outputs": []
    },
    {
      "cell_type": "markdown",
      "metadata": {
        "id": "3DkSzpPVrOLo"
      },
      "source": [
        "random 서브모듈\n",
        "\n",
        "rand 함수\n",
        "* 0, 1 사이의 분포로 랜덤한 ndarray 생성"
      ]
    },
    {
      "cell_type": "code",
      "metadata": {
        "colab": {
          "base_uri": "https://localhost:8080/"
        },
        "id": "5UcZQlplrIOb",
        "outputId": "f84085d0-1771-49c3-ecb4-dbf642acfec5"
      },
      "source": [
        "np.random.rand(2, 3) # 2 * 3의 랜덤한 어레이 생성"
      ],
      "execution_count": 2,
      "outputs": [
        {
          "output_type": "execute_result",
          "data": {
            "text/plain": [
              "array([[0.84644353, 0.9362827 , 0.33930208],\n",
              "       [0.64771587, 0.26516689, 0.80778975]])"
            ]
          },
          "metadata": {
            "tags": []
          },
          "execution_count": 2
        }
      ]
    },
    {
      "cell_type": "code",
      "metadata": {
        "colab": {
          "base_uri": "https://localhost:8080/"
        },
        "id": "9U3z4atArMXu",
        "outputId": "d66945dd-d829-4b88-d533-32dca54e1eae"
      },
      "source": [
        "np.random.rand(10)"
      ],
      "execution_count": 3,
      "outputs": [
        {
          "output_type": "execute_result",
          "data": {
            "text/plain": [
              "array([0.08554387, 0.19059372, 0.63643892, 0.35493931, 0.38761251,\n",
              "       0.40624856, 0.04016373, 0.73350394, 0.53001687, 0.25911621])"
            ]
          },
          "metadata": {
            "tags": []
          },
          "execution_count": 3
        }
      ]
    },
    {
      "cell_type": "code",
      "metadata": {
        "colab": {
          "base_uri": "https://localhost:8080/"
        },
        "id": "BOcFpguvrpTv",
        "outputId": "d65eb59e-a85c-4016-9ea6-9db700d4cfbb"
      },
      "source": [
        "np.random.rand(2, 4, 3) # 3차원 어레이 생성"
      ],
      "execution_count": 4,
      "outputs": [
        {
          "output_type": "execute_result",
          "data": {
            "text/plain": [
              "array([[[0.01711848, 0.18283171, 0.73918545],\n",
              "        [0.63017284, 0.71070164, 0.00822831],\n",
              "        [0.02668933, 0.83417828, 0.72971598],\n",
              "        [0.54930026, 0.26511703, 0.43428742]],\n",
              "\n",
              "       [[0.42768458, 0.72464756, 0.217803  ],\n",
              "        [0.43183675, 0.31415312, 0.90490773],\n",
              "        [0.41611554, 0.09757239, 0.84728996],\n",
              "        [0.31136066, 0.05149764, 0.91009582]]])"
            ]
          },
          "metadata": {
            "tags": []
          },
          "execution_count": 4
        }
      ]
    },
    {
      "cell_type": "markdown",
      "metadata": {
        "id": "xEdPSRqHsBKw"
      },
      "source": [
        "randn함수\n",
        "* n: normal distribution (정규분포)\n",
        "* 정규분포로 샘플링된 랜덤 ndarray 생성"
      ]
    },
    {
      "cell_type": "code",
      "metadata": {
        "colab": {
          "base_uri": "https://localhost:8080/"
        },
        "id": "gp-xwFNVrvkM",
        "outputId": "7057071f-a92d-441d-f65a-fd59dbc924d1"
      },
      "source": [
        "np.random.randn(3, 4)"
      ],
      "execution_count": 5,
      "outputs": [
        {
          "output_type": "execute_result",
          "data": {
            "text/plain": [
              "array([[ 0.49386353,  1.28131478, -0.37859092, -1.11756161],\n",
              "       [ 1.15669724,  1.04283037,  2.63308597,  1.30836879],\n",
              "       [-0.68953363,  1.31044629, -0.86940709,  0.0565605 ]])"
            ]
          },
          "metadata": {
            "tags": []
          },
          "execution_count": 5
        }
      ]
    },
    {
      "cell_type": "code",
      "metadata": {
        "colab": {
          "base_uri": "https://localhost:8080/"
        },
        "id": "1od8Ib4ZsRl0",
        "outputId": "c7b553b3-1117-4994-8e07-202a37ecdb95"
      },
      "source": [
        "np.random.randn(10)"
      ],
      "execution_count": 6,
      "outputs": [
        {
          "output_type": "execute_result",
          "data": {
            "text/plain": [
              "array([ 0.56226244, -0.42332959,  0.80107585, -0.8717087 ,  0.2734139 ,\n",
              "        0.11127298,  0.67923531,  0.80604259,  1.41107769, -0.84043537])"
            ]
          },
          "metadata": {
            "tags": []
          },
          "execution_count": 6
        }
      ]
    },
    {
      "cell_type": "markdown",
      "metadata": {
        "id": "NdfluZIksVrP"
      },
      "source": [
        "randint 함수\n",
        "* 특정 정수 사이에서 랜덤하게 샘플링"
      ]
    },
    {
      "cell_type": "code",
      "metadata": {
        "colab": {
          "base_uri": "https://localhost:8080/"
        },
        "id": "bkitXYoYsUit",
        "outputId": "9eb73c4c-151f-46e1-8338-27447e6127fb"
      },
      "source": [
        "np.random.randint(1, 10, size=(3, 4)) # 1부터 10까지 수 중 랜덤하게 3 * 4 형태로 배열하는 것"
      ],
      "execution_count": 9,
      "outputs": [
        {
          "output_type": "execute_result",
          "data": {
            "text/plain": [
              "array([[6, 4, 1, 5],\n",
              "       [3, 5, 5, 5],\n",
              "       [6, 1, 1, 5]])"
            ]
          },
          "metadata": {
            "tags": []
          },
          "execution_count": 9
        }
      ]
    },
    {
      "cell_type": "markdown",
      "metadata": {
        "id": "Fsz0_xKqtgmF"
      },
      "source": [
        "seed 함수\n",
        "* 랜덤한 값을 동일하게 다시 생성하고자 할 때 사용"
      ]
    },
    {
      "cell_type": "code",
      "metadata": {
        "colab": {
          "base_uri": "https://localhost:8080/"
        },
        "id": "N7Mtouausfsc",
        "outputId": "8083a7d5-d621-4364-ba1d-98ff1a164600"
      },
      "source": [
        "np.random.seed(10) # 랜덤한 수를 주지만, 동일하게 다시 생성할 수 있도록 함. 단독적으로 사용 불가능 - randn 함수 또는 randint 등과 함께 사용\n",
        "np.random.randn(3, 4)"
      ],
      "execution_count": 13,
      "outputs": [
        {
          "output_type": "execute_result",
          "data": {
            "text/plain": [
              "array([[ 1.3315865 ,  0.71527897, -1.54540029, -0.00838385],\n",
              "       [ 0.62133597, -0.72008556,  0.26551159,  0.10854853],\n",
              "       [ 0.00429143, -0.17460021,  0.43302619,  1.20303737]])"
            ]
          },
          "metadata": {
            "tags": []
          },
          "execution_count": 13
        }
      ]
    },
    {
      "cell_type": "markdown",
      "metadata": {
        "id": "N5fnut6sukdK"
      },
      "source": [
        "choice 함수\n",
        "* 주어진 1차원 ndarray로 부터 랜덤으로 샘플링\n",
        "* 정수가 주어진 경우, np.arange(해당숫자)로 간주"
      ]
    },
    {
      "cell_type": "code",
      "metadata": {
        "colab": {
          "base_uri": "https://localhost:8080/"
        },
        "id": "EeyiJfqjtmgf",
        "outputId": "9215defc-a69e-4779-fede-055235f823e9"
      },
      "source": [
        "np.random.choice(100, size=(3, 4)) #1부터 100까지 수 중 랜덤하게 3 * 4 사이즈로 배열, 같은 수 중복 가능"
      ],
      "execution_count": 14,
      "outputs": [
        {
          "output_type": "execute_result",
          "data": {
            "text/plain": [
              "array([[72, 78, 49, 51],\n",
              "       [54, 77, 69, 13],\n",
              "       [25, 13, 92, 86]])"
            ]
          },
          "metadata": {
            "tags": []
          },
          "execution_count": 14
        }
      ]
    },
    {
      "cell_type": "code",
      "metadata": {
        "colab": {
          "base_uri": "https://localhost:8080/"
        },
        "id": "GGxSd0-UvAan",
        "outputId": "7eb249d7-67b5-409d-c7f4-b56c1c14f51a"
      },
      "source": [
        "np.random.choice(100, size=(3, 4), replace=False) #같은 수 중복 불가능"
      ],
      "execution_count": 16,
      "outputs": [
        {
          "output_type": "execute_result",
          "data": {
            "text/plain": [
              "array([[75, 64, 41, 13],\n",
              "       [ 8, 70, 92, 59],\n",
              "       [79, 98, 67, 24]])"
            ]
          },
          "metadata": {
            "tags": []
          },
          "execution_count": 16
        }
      ]
    },
    {
      "cell_type": "code",
      "metadata": {
        "colab": {
          "base_uri": "https://localhost:8080/"
        },
        "id": "QyK-cmJxvRSA",
        "outputId": "824a5ef1-0fc5-434a-9643-10a309e2a1c8"
      },
      "source": [
        "x = np.array([1, 3, 5, 2.5, 4.6, 7.1])\n",
        "np.random.choice(x, size=(3, 4))"
      ],
      "execution_count": 19,
      "outputs": [
        {
          "output_type": "execute_result",
          "data": {
            "text/plain": [
              "array([[1. , 5. , 2.5, 2.5],\n",
              "       [2.5, 5. , 7.1, 5. ],\n",
              "       [2.5, 1. , 7.1, 7.1]])"
            ]
          },
          "metadata": {
            "tags": []
          },
          "execution_count": 19
        }
      ]
    },
    {
      "cell_type": "code",
      "metadata": {
        "colab": {
          "base_uri": "https://localhost:8080/"
        },
        "id": "bxF56_lZvpsT",
        "outputId": "70393802-0683-4680-c54d-7f0b15b3c992"
      },
      "source": [
        "x = np.array([1, 3, 5, 2.5, 4.6, 7.1])\n",
        "np.random.choice(x, size=(2, 2), replace=False) #같은 수 중복 불가능"
      ],
      "execution_count": 21,
      "outputs": [
        {
          "output_type": "execute_result",
          "data": {
            "text/plain": [
              "array([[1. , 4.6],\n",
              "       [5. , 3. ]])"
            ]
          },
          "metadata": {
            "tags": []
          },
          "execution_count": 21
        }
      ]
    }
  ]
}