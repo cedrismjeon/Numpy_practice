{
  "nbformat": 4,
  "nbformat_minor": 0,
  "metadata": {
    "colab": {
      "name": "5. ndarray 데이터 형태를 바꿔보기.ipynb",
      "provenance": [],
      "collapsed_sections": [],
      "authorship_tag": "ABX9TyNNm4VEhhu+Fg+sVsu6d+6D",
      "include_colab_link": true
    },
    "kernelspec": {
      "name": "python3",
      "display_name": "Python 3"
    }
  },
  "cells": [
    {
      "cell_type": "markdown",
      "metadata": {
        "id": "view-in-github",
        "colab_type": "text"
      },
      "source": [
        "<a href=\"https://colab.research.google.com/github/cedrismjeon/numpy_practice/blob/main/5.%20ndarray_%EB%8D%B0%EC%9D%B4%ED%84%B0_%ED%98%95%ED%83%9C%EB%A5%BC_%EB%B0%94%EA%BF%94%EB%B3%B4%EA%B8%B0.ipynb\" target=\"_parent\"><img src=\"https://colab.research.google.com/assets/colab-badge.svg\" alt=\"Open In Colab\"/></a>"
      ]
    },
    {
      "cell_type": "code",
      "metadata": {
        "id": "vsXd2W9P5NV_"
      },
      "source": [
        "import numpy as np"
      ],
      "execution_count": 2,
      "outputs": []
    },
    {
      "cell_type": "markdown",
      "metadata": {
        "id": "0mizyR9U7Lph"
      },
      "source": [
        "ravel, np.ravel\n",
        "* 다차원배열을 1차원으로 변경\n",
        "* 'order'파라미터\n",
        "* 'C' - row 순서 \n",
        "  * ex) np.ravel(x, order='C')\n",
        "* 'F' - column 순서\n",
        "  * ex) np.ravel(x, order='F') "
      ]
    },
    {
      "cell_type": "code",
      "metadata": {
        "id": "mUNj4vf65WWW",
        "colab": {
          "base_uri": "https://localhost:8080/"
        },
        "outputId": "f7550053-a313-4d84-92e4-18f17239b96c"
      },
      "source": [
        "x = np.arange(15).reshape(3, 5)\n",
        "print(x)"
      ],
      "execution_count": 3,
      "outputs": [
        {
          "output_type": "stream",
          "text": [
            "[[ 0  1  2  3  4]\n",
            " [ 5  6  7  8  9]\n",
            " [10 11 12 13 14]]\n"
          ],
          "name": "stdout"
        }
      ]
    },
    {
      "cell_type": "code",
      "metadata": {
        "colab": {
          "base_uri": "https://localhost:8080/"
        },
        "id": "H7c1l6KQ7r9W",
        "outputId": "13d56306-6eb6-4fdb-dbad-e9dd30465fa5"
      },
      "source": [
        "x.ravel()"
      ],
      "execution_count": 5,
      "outputs": [
        {
          "output_type": "execute_result",
          "data": {
            "text/plain": [
              "array([ 0,  1,  2,  3,  4,  5,  6,  7,  8,  9, 10, 11, 12, 13, 14])"
            ]
          },
          "metadata": {
            "tags": []
          },
          "execution_count": 5
        }
      ]
    },
    {
      "cell_type": "code",
      "metadata": {
        "colab": {
          "base_uri": "https://localhost:8080/"
        },
        "id": "rZo4mS-B7uI8",
        "outputId": "29cb4158-e77e-4cbe-89d5-108e1f758534"
      },
      "source": [
        "np.ravel(x)"
      ],
      "execution_count": 6,
      "outputs": [
        {
          "output_type": "execute_result",
          "data": {
            "text/plain": [
              "array([ 0,  1,  2,  3,  4,  5,  6,  7,  8,  9, 10, 11, 12, 13, 14])"
            ]
          },
          "metadata": {
            "tags": []
          },
          "execution_count": 6
        }
      ]
    },
    {
      "cell_type": "markdown",
      "metadata": {
        "id": "XPZAsF6E75OX"
      },
      "source": [
        "flatten\n",
        "* 다차원배열을 1차원으로 변경\n",
        "*'order' 파라미터\n",
        "* 'C' - row 순서\n",
        "* 'F' - column 순서"
      ]
    },
    {
      "cell_type": "code",
      "metadata": {
        "colab": {
          "base_uri": "https://localhost:8080/"
        },
        "id": "ZYJ9LmOv7ztG",
        "outputId": "46824dd9-b0f5-49eb-969c-715a64a5218b"
      },
      "source": [
        "y = np.arange(15).reshape(3, 5)\n",
        "print(y)"
      ],
      "execution_count": 7,
      "outputs": [
        {
          "output_type": "stream",
          "text": [
            "[[ 0  1  2  3  4]\n",
            " [ 5  6  7  8  9]\n",
            " [10 11 12 13 14]]\n"
          ],
          "name": "stdout"
        }
      ]
    },
    {
      "cell_type": "code",
      "metadata": {
        "colab": {
          "base_uri": "https://localhost:8080/"
        },
        "id": "zv-nzCWS8fdp",
        "outputId": "ec91502f-18bd-42a6-fd24-f21cf3bcb970"
      },
      "source": [
        "y.flatten()"
      ],
      "execution_count": 8,
      "outputs": [
        {
          "output_type": "execute_result",
          "data": {
            "text/plain": [
              "array([ 0,  1,  2,  3,  4,  5,  6,  7,  8,  9, 10, 11, 12, 13, 14])"
            ]
          },
          "metadata": {
            "tags": []
          },
          "execution_count": 8
        }
      ]
    },
    {
      "cell_type": "markdown",
      "metadata": {
        "id": "yNODehzd80zL"
      },
      "source": [
        "* 차이점 비교"
      ]
    },
    {
      "cell_type": "code",
      "metadata": {
        "colab": {
          "base_uri": "https://localhost:8080/"
        },
        "id": "CbTfhJWT8sC4",
        "outputId": "f8a8e20e-237d-4ec4-95a2-e69ad667dbe2"
      },
      "source": [
        "temp = x.ravel()\n",
        "temp[0] = 100\n",
        "print(temp)\n",
        "print(x)"
      ],
      "execution_count": 10,
      "outputs": [
        {
          "output_type": "stream",
          "text": [
            "[100   1   2   3   4   5   6   7   8   9  10  11  12  13  14]\n",
            "[[100   1   2   3   4]\n",
            " [  5   6   7   8   9]\n",
            " [ 10  11  12  13  14]]\n"
          ],
          "name": "stdout"
        }
      ]
    },
    {
      "cell_type": "code",
      "metadata": {
        "colab": {
          "base_uri": "https://localhost:8080/"
        },
        "id": "jned81EL8-Bp",
        "outputId": "739c980b-9e2c-40d4-d48b-de01cb3604de"
      },
      "source": [
        "temp2 = y.flatten()\n",
        "temp2[0] = 100\n",
        "print(temp2)\n",
        "print(y)"
      ],
      "execution_count": 11,
      "outputs": [
        {
          "output_type": "stream",
          "text": [
            "[100   1   2   3   4   5   6   7   8   9  10  11  12  13  14]\n",
            "[[ 0  1  2  3  4]\n",
            " [ 5  6  7  8  9]\n",
            " [10 11 12 13 14]]\n"
          ],
          "name": "stdout"
        }
      ]
    },
    {
      "cell_type": "markdown",
      "metadata": {
        "id": "0IXeKB6l9e4h"
      },
      "source": [
        "* ravel과의 차이점: copy를 생성하여 변경함 - 원본 데이커가 아닌 복사본을 반환함"
      ]
    },
    {
      "cell_type": "code",
      "metadata": {
        "colab": {
          "base_uri": "https://localhost:8080/"
        },
        "id": "H1N8oyjC-gTy",
        "outputId": "d858b6ed-d5d6-4f44-866a-91a4bcfb2eb5"
      },
      "source": [
        "print(x.ndim) #배열 차원을 나타냄\n",
        "print(y.ndim)"
      ],
      "execution_count": 12,
      "outputs": [
        {
          "output_type": "stream",
          "text": [
            "2\n",
            "2\n"
          ],
          "name": "stdout"
        }
      ]
    }
  ]
}