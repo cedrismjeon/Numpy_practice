{
  "nbformat": 4,
  "nbformat_minor": 0,
  "metadata": {
    "colab": {
      "name": "8. Boolean indexing.ipynb",
      "provenance": [],
      "collapsed_sections": [],
      "authorship_tag": "ABX9TyPw+EmH7C1xljWDTclQoaas",
      "include_colab_link": true
    },
    "kernelspec": {
      "name": "python3",
      "display_name": "Python 3"
    }
  },
  "cells": [
    {
      "cell_type": "markdown",
      "metadata": {
        "id": "view-in-github",
        "colab_type": "text"
      },
      "source": [
        "<a href=\"https://colab.research.google.com/github/cedrismjeon/numpy_practice/blob/main/8.%20Boolean_indexing.ipynb\" target=\"_parent\"><img src=\"https://colab.research.google.com/assets/colab-badge.svg\" alt=\"Open In Colab\"/></a>"
      ]
    },
    {
      "cell_type": "code",
      "metadata": {
        "id": "ljeTPDgyJSFH"
      },
      "source": [
        "import numpy as np"
      ],
      "execution_count": 1,
      "outputs": []
    },
    {
      "cell_type": "markdown",
      "metadata": {
        "id": "T_uJAXuFJfV6"
      },
      "source": [
        "Boolean indexing\n",
        "* ndarray 인덱싱 시, bool 리스트를 전달하여 true인 경우만 필터링\n",
        "* 브로드캐스팅을 활용하여 ndarray로 부터 bool list 얻기\n",
        "* 예) 짝수인 경우만 찾아보기"
      ]
    },
    {
      "cell_type": "code",
      "metadata": {
        "colab": {
          "base_uri": "https://localhost:8080/"
        },
        "id": "punvRlNNJce9",
        "outputId": "bd25209a-ab70-43cb-af9b-aa704b88ce20"
      },
      "source": [
        "x = np.random.randint(1, 100, size=10)\n",
        "print(x)"
      ],
      "execution_count": 4,
      "outputs": [
        {
          "output_type": "stream",
          "text": [
            "[55 19 69 70 46 98 37 76 77 91]\n"
          ],
          "name": "stdout"
        }
      ]
    },
    {
      "cell_type": "code",
      "metadata": {
        "colab": {
          "base_uri": "https://localhost:8080/"
        },
        "id": "gLzbw-1qKGYg",
        "outputId": "a4b2d002-5e9c-4011-9aa5-67b221777767"
      },
      "source": [
        "even_mask = x % 2 == 0\n",
        "print(even_mask)"
      ],
      "execution_count": 7,
      "outputs": [
        {
          "output_type": "stream",
          "text": [
            "[False False False  True  True  True False  True False False]\n"
          ],
          "name": "stdout"
        }
      ]
    },
    {
      "cell_type": "markdown",
      "metadata": {
        "id": "UHj1WNtuKTWX"
      },
      "source": [
        "* bool 리스트를 인덱스로 전달"
      ]
    },
    {
      "cell_type": "code",
      "metadata": {
        "colab": {
          "base_uri": "https://localhost:8080/"
        },
        "id": "O9KQXnl0KSkg",
        "outputId": "4e6013b4-3851-4340-dfa8-c943fc4311e6"
      },
      "source": [
        "x[even_mask] #true인 값만 반환"
      ],
      "execution_count": 9,
      "outputs": [
        {
          "output_type": "execute_result",
          "data": {
            "text/plain": [
              "array([70, 46, 98, 76])"
            ]
          },
          "metadata": {
            "tags": []
          },
          "execution_count": 9
        }
      ]
    },
    {
      "cell_type": "markdown",
      "metadata": {
        "id": "pO9KYmfdKtuT"
      },
      "source": [
        "다중조건 사용하기\n",
        "* 파이썬 논리 연산지인 and,or,not 키워드 사용불가\n",
        "* & - AND\n",
        "* | - OR"
      ]
    },
    {
      "cell_type": "code",
      "metadata": {
        "colab": {
          "base_uri": "https://localhost:8080/"
        },
        "id": "ABVzj5y0Ko77",
        "outputId": "aa7d340b-0945-476c-b7aa-41dcf2355253"
      },
      "source": [
        "print(x)\n",
        "x % 2 == 0\n",
        "x < 30\n",
        "\n",
        "x[(x % 2 == 0) & (x < 30)]"
      ],
      "execution_count": 13,
      "outputs": [
        {
          "output_type": "stream",
          "text": [
            "[55 19 69 70 46 98 37 76 77 91]\n"
          ],
          "name": "stdout"
        },
        {
          "output_type": "execute_result",
          "data": {
            "text/plain": [
              "array([], dtype=int64)"
            ]
          },
          "metadata": {
            "tags": []
          },
          "execution_count": 13
        }
      ]
    },
    {
      "cell_type": "code",
      "metadata": {
        "colab": {
          "base_uri": "https://localhost:8080/"
        },
        "id": "pht57J3XLW5h",
        "outputId": "2bea2082-b11a-44e5-d143-33b3381a63f2"
      },
      "source": [
        "a = x < 30\n",
        "b = x > 50\n",
        "\n",
        "x[a | b]"
      ],
      "execution_count": 14,
      "outputs": [
        {
          "output_type": "execute_result",
          "data": {
            "text/plain": [
              "array([55, 19, 69, 70, 98, 76, 77, 91])"
            ]
          },
          "metadata": {
            "tags": []
          },
          "execution_count": 14
        }
      ]
    },
    {
      "cell_type": "code",
      "metadata": {
        "id": "d2rCliaHMIR3"
      },
      "source": [
        ""
      ],
      "execution_count": null,
      "outputs": []
    }
  ]
}