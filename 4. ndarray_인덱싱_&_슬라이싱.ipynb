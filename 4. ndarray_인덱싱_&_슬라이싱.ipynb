{
  "nbformat": 4,
  "nbformat_minor": 0,
  "metadata": {
    "colab": {
      "name": "4. ndarray 인덱싱 & 슬라이싱.ipynb",
      "provenance": [],
      "collapsed_sections": [],
      "authorship_tag": "ABX9TyMiIeOe6OGi1N9dn/WcioKc",
      "include_colab_link": true
    },
    "kernelspec": {
      "name": "python3",
      "display_name": "Python 3"
    }
  },
  "cells": [
    {
      "cell_type": "markdown",
      "metadata": {
        "id": "view-in-github",
        "colab_type": "text"
      },
      "source": [
        "<a href=\"https://colab.research.google.com/github/cedrismjeon/numpy_practice/blob/main/4.%20ndarray_%EC%9D%B8%EB%8D%B1%EC%8B%B1_%26_%EC%8A%AC%EB%9D%BC%EC%9D%B4%EC%8B%B1.ipynb\" target=\"_parent\"><img src=\"https://colab.research.google.com/assets/colab-badge.svg\" alt=\"Open In Colab\"/></a>"
      ]
    },
    {
      "cell_type": "code",
      "metadata": {
        "id": "Xl0kytShVc3Q"
      },
      "source": [
        "import numpy as np"
      ],
      "execution_count": 1,
      "outputs": []
    },
    {
      "cell_type": "markdown",
      "metadata": {
        "id": "YsnqytMMYvFi"
      },
      "source": [
        "인덱싱\n",
        "* 파이썬 리스트와 동일한 개념으로 사용\n",
        "* ,를 사용하여 각 차원의 인덱스에 접근 가능"
      ]
    },
    {
      "cell_type": "code",
      "metadata": {
        "colab": {
          "base_uri": "https://localhost:8080/"
        },
        "id": "3nPS2_0KYsfm",
        "outputId": "8341b598-6f36-437b-a794-9cf74dc4cdd6"
      },
      "source": [
        "x = np.arange(10)\n",
        "print(x)"
      ],
      "execution_count": 2,
      "outputs": [
        {
          "output_type": "stream",
          "text": [
            "[0 1 2 3 4 5 6 7 8 9]\n"
          ],
          "name": "stdout"
        }
      ]
    },
    {
      "cell_type": "code",
      "metadata": {
        "colab": {
          "base_uri": "https://localhost:8080/"
        },
        "id": "kDdn4MF_ZAUb",
        "outputId": "3d4a3d00-2feb-4824-b3f0-021cd75657ba"
      },
      "source": [
        "x[-1]"
      ],
      "execution_count": 3,
      "outputs": [
        {
          "output_type": "execute_result",
          "data": {
            "text/plain": [
              "9"
            ]
          },
          "metadata": {
            "tags": []
          },
          "execution_count": 3
        }
      ]
    },
    {
      "cell_type": "code",
      "metadata": {
        "colab": {
          "base_uri": "https://localhost:8080/"
        },
        "id": "4-lgkdAEZC70",
        "outputId": "d738a3ca-232a-4121-de2f-87a3e955277b"
      },
      "source": [
        "x[3] = 100 # list와 같이 인덱싱 가능\n",
        "print(x)"
      ],
      "execution_count": 5,
      "outputs": [
        {
          "output_type": "stream",
          "text": [
            "[  0   1   2 100   4   5   6   7   8   9]\n"
          ],
          "name": "stdout"
        }
      ]
    },
    {
      "cell_type": "markdown",
      "metadata": {
        "id": "NgRB8h1p9hQb"
      },
      "source": [
        "* 2차원 행렬 인덱싱"
      ]
    },
    {
      "cell_type": "code",
      "metadata": {
        "colab": {
          "base_uri": "https://localhost:8080/"
        },
        "id": "sU-qeu_vZLs1",
        "outputId": "4ad8734f-b206-446e-d359-555383e01ace"
      },
      "source": [
        "x = np.arange(10).reshape(2, 5)\n",
        "print(x)"
      ],
      "execution_count": 10,
      "outputs": [
        {
          "output_type": "stream",
          "text": [
            "[[0 1 2 3 4]\n",
            " [5 6 7 8 9]]\n"
          ],
          "name": "stdout"
        }
      ]
    },
    {
      "cell_type": "code",
      "metadata": {
        "colab": {
          "base_uri": "https://localhost:8080/"
        },
        "id": "zyO8cWPU-Akz",
        "outputId": "4a31e01d-6b48-4b51-e1c2-83609d09d710"
      },
      "source": [
        "# 두번째줄 숫자 7을 호출하는 경우\n",
        "x[1, 2]"
      ],
      "execution_count": 11,
      "outputs": [
        {
          "output_type": "execute_result",
          "data": {
            "text/plain": [
              "7"
            ]
          },
          "metadata": {
            "tags": []
          },
          "execution_count": 11
        }
      ]
    },
    {
      "cell_type": "markdown",
      "metadata": {
        "id": "0JqR-A3d9q9p"
      },
      "source": [
        "* 3차원 행렬 인덱싱"
      ]
    },
    {
      "cell_type": "code",
      "metadata": {
        "colab": {
          "base_uri": "https://localhost:8080/"
        },
        "id": "kMjw8TRw9ofF",
        "outputId": "a6a8400c-20d8-49c5-d2d9-11ec7375c5c3"
      },
      "source": [
        "x = np.arange(36).reshape(3, 4, 3)\n",
        "print(x)"
      ],
      "execution_count": 12,
      "outputs": [
        {
          "output_type": "stream",
          "text": [
            "[[[ 0  1  2]\n",
            "  [ 3  4  5]\n",
            "  [ 6  7  8]\n",
            "  [ 9 10 11]]\n",
            "\n",
            " [[12 13 14]\n",
            "  [15 16 17]\n",
            "  [18 19 20]\n",
            "  [21 22 23]]\n",
            "\n",
            " [[24 25 26]\n",
            "  [27 28 29]\n",
            "  [30 31 32]\n",
            "  [33 34 35]]]\n"
          ],
          "name": "stdout"
        }
      ]
    },
    {
      "cell_type": "code",
      "metadata": {
        "colab": {
          "base_uri": "https://localhost:8080/"
        },
        "id": "VkgZISHY90Pm",
        "outputId": "281fca22-ad65-41d0-8f4f-3c39467117df"
      },
      "source": [
        "# 두번째 행렬의 세번째줄 숫자 19를 호출하는 경우\n",
        "x[1, 2, 1]"
      ],
      "execution_count": 13,
      "outputs": [
        {
          "output_type": "execute_result",
          "data": {
            "text/plain": [
              "19"
            ]
          },
          "metadata": {
            "tags": []
          },
          "execution_count": 13
        }
      ]
    },
    {
      "cell_type": "markdown",
      "metadata": {
        "id": "B7Mqq0oZ-yA8"
      },
      "source": [
        "* 2차원 행렬 슬라이싱"
      ]
    },
    {
      "cell_type": "code",
      "metadata": {
        "colab": {
          "base_uri": "https://localhost:8080/"
        },
        "id": "v0s0bwLl-l77",
        "outputId": "f23c0dbe-40b0-4564-fa26-0ae4e32eedf7"
      },
      "source": [
        "x = np.arange(10).reshape(2, 5)\n",
        "print(x)"
      ],
      "execution_count": 14,
      "outputs": [
        {
          "output_type": "stream",
          "text": [
            "[[0 1 2 3 4]\n",
            " [5 6 7 8 9]]\n"
          ],
          "name": "stdout"
        }
      ]
    },
    {
      "cell_type": "code",
      "metadata": {
        "colab": {
          "base_uri": "https://localhost:8080/"
        },
        "id": "6cKMyX4H_LBv",
        "outputId": "c8c0aa8f-7ab9-4a76-cf10-3f7312281f48"
      },
      "source": [
        "# 전체 행 중 1,2,3번째 수만 호출하는 경우\n",
        "x[:, 1:4]"
      ],
      "execution_count": 15,
      "outputs": [
        {
          "output_type": "execute_result",
          "data": {
            "text/plain": [
              "array([[1, 2, 3],\n",
              "       [6, 7, 8]])"
            ]
          },
          "metadata": {
            "tags": []
          },
          "execution_count": 15
        }
      ]
    },
    {
      "cell_type": "code",
      "metadata": {
        "colab": {
          "base_uri": "https://localhost:8080/"
        },
        "id": "aTrMcAZY_UIC",
        "outputId": "ab301dd0-3abf-4a6b-eead-3a44822c7086"
      },
      "source": [
        "# 두번째 행 중 3,4번째 수만 호출하는 경우\n",
        "x[1, 2:4]"
      ],
      "execution_count": 17,
      "outputs": [
        {
          "output_type": "execute_result",
          "data": {
            "text/plain": [
              "array([7, 8])"
            ]
          },
          "metadata": {
            "tags": []
          },
          "execution_count": 17
        }
      ]
    },
    {
      "cell_type": "markdown",
      "metadata": {
        "id": "y3tJMf6e_zU6"
      },
      "source": [
        "* 3차원 텐서 슬라이싱"
      ]
    },
    {
      "cell_type": "code",
      "metadata": {
        "colab": {
          "base_uri": "https://localhost:8080/"
        },
        "id": "kZOhtu_m_xsm",
        "outputId": "463a6351-d56d-4fe3-a3ce-71b3fb9a046c"
      },
      "source": [
        "x = np.arange(36).reshape(3, 4, 3)\n",
        "print(x)"
      ],
      "execution_count": 20,
      "outputs": [
        {
          "output_type": "stream",
          "text": [
            "[[[ 0  1  2]\n",
            "  [ 3  4  5]\n",
            "  [ 6  7  8]\n",
            "  [ 9 10 11]]\n",
            "\n",
            " [[12 13 14]\n",
            "  [15 16 17]\n",
            "  [18 19 20]\n",
            "  [21 22 23]]\n",
            "\n",
            " [[24 25 26]\n",
            "  [27 28 29]\n",
            "  [30 31 32]\n",
            "  [33 34 35]]]\n"
          ],
          "name": "stdout"
        }
      ]
    },
    {
      "cell_type": "code",
      "metadata": {
        "colab": {
          "base_uri": "https://localhost:8080/"
        },
        "id": "YGPwoKJz_6Jt",
        "outputId": "2dbf7438-f438-4681-a1ba-e21556edfbb9"
      },
      "source": [
        "# 세번째 행렬 중 2번째 행, 전체 수를 호출하는 경우\n",
        "x[2, 1, :]"
      ],
      "execution_count": 21,
      "outputs": [
        {
          "output_type": "execute_result",
          "data": {
            "text/plain": [
              "array([27, 28, 29])"
            ]
          },
          "metadata": {
            "tags": []
          },
          "execution_count": 21
        }
      ]
    },
    {
      "cell_type": "code",
      "metadata": {
        "colab": {
          "base_uri": "https://localhost:8080/"
        },
        "id": "L7R7pFthAVLC",
        "outputId": "0f26dd0a-a244-4fb3-fd93-196243003492"
      },
      "source": [
        "# 전체 행렬 중 각 3번째 행, 2,3번째 수를 호출하는 경우\n",
        "x[:, 2, 1:3]"
      ],
      "execution_count": 22,
      "outputs": [
        {
          "output_type": "execute_result",
          "data": {
            "text/plain": [
              "array([[ 7,  8],\n",
              "       [19, 20],\n",
              "       [31, 32]])"
            ]
          },
          "metadata": {
            "tags": []
          },
          "execution_count": 22
        }
      ]
    }
  ]
}