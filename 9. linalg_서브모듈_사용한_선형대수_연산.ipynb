{
  "nbformat": 4,
  "nbformat_minor": 0,
  "metadata": {
    "colab": {
      "name": "9. linalg 서브모듈 사용한 선형대수 연산.ipynb",
      "provenance": [],
      "collapsed_sections": [],
      "authorship_tag": "ABX9TyPTsg1406z8z84LVZGSMk7t",
      "include_colab_link": true
    },
    "kernelspec": {
      "name": "python3",
      "display_name": "Python 3"
    }
  },
  "cells": [
    {
      "cell_type": "markdown",
      "metadata": {
        "id": "view-in-github",
        "colab_type": "text"
      },
      "source": [
        "<a href=\"https://colab.research.google.com/github/cedrismjeon/numpy_practice/blob/main/9.%20linalg_%EC%84%9C%EB%B8%8C%EB%AA%A8%EB%93%88_%EC%82%AC%EC%9A%A9%ED%95%9C_%EC%84%A0%ED%98%95%EB%8C%80%EC%88%98_%EC%97%B0%EC%82%B0.ipynb\" target=\"_parent\"><img src=\"https://colab.research.google.com/assets/colab-badge.svg\" alt=\"Open In Colab\"/></a>"
      ]
    },
    {
      "cell_type": "code",
      "metadata": {
        "id": "1fzmzDErOmvr"
      },
      "source": [
        "import numpy as np"
      ],
      "execution_count": 1,
      "outputs": []
    },
    {
      "cell_type": "markdown",
      "metadata": {
        "id": "z5Va22ZlO2wF"
      },
      "source": [
        "np.linalg.inv\n",
        "* 역행렬을 구할 때 사용\n",
        "* 모든 차원의 값이 같아야 함"
      ]
    },
    {
      "cell_type": "code",
      "metadata": {
        "colab": {
          "base_uri": "https://localhost:8080/"
        },
        "id": "g6QPjgBbO17e",
        "outputId": "ec9a768d-d825-4cb2-f266-b954d8d8cdfb"
      },
      "source": [
        "x = np.random.rand(3, 3)\n",
        "print(x)\n",
        "\n",
        "np.matmul(x, np.linalg.inv(x))\n",
        "x @ np.linalg.inv(x)"
      ],
      "execution_count": 3,
      "outputs": [
        {
          "output_type": "stream",
          "text": [
            "[[0.58486869 0.3889494  0.7115659 ]\n",
            " [0.060672   0.02542037 0.65397682]\n",
            " [0.11135203 0.54505148 0.45244758]]\n"
          ],
          "name": "stdout"
        },
        {
          "output_type": "execute_result",
          "data": {
            "text/plain": [
              "array([[ 1.00000000e+00,  9.57603318e-17, -9.78502235e-17],\n",
              "       [ 1.09544033e-17,  1.00000000e+00, -5.15472205e-18],\n",
              "       [ 4.56735620e-17,  1.38377037e-16,  1.00000000e+00]])"
            ]
          },
          "metadata": {
            "tags": []
          },
          "execution_count": 3
        }
      ]
    },
    {
      "cell_type": "markdown",
      "metadata": {
        "id": "hAeYIQ39QM3e"
      },
      "source": [
        "np.linalg.solve\n",
        "* Ax = B 형태의 선형대수식 솔루션을 제공\n",
        "* 예제) 호랑이와 홍합의 합 : 25, 호랑이 다리와 홍합 다리의 합은 64\n",
        " * x + y = 25\n",
        " * 2x + 4y = 64"
      ]
    },
    {
      "cell_type": "code",
      "metadata": {
        "colab": {
          "base_uri": "https://localhost:8080/"
        },
        "id": "CsaiktFMPe1R",
        "outputId": "da3b9d07-bee1-45b4-f378-4260bfb8649d"
      },
      "source": [
        "A = np.array([[1, 1], [2, 4]])\n",
        "B = np.array([25, 64])\n",
        "\n",
        "x = np.linalg.solve(A, B)\n",
        "print(x)"
      ],
      "execution_count": 4,
      "outputs": [
        {
          "output_type": "stream",
          "text": [
            "[18.  7.]\n"
          ],
          "name": "stdout"
        }
      ]
    }
  ]
}